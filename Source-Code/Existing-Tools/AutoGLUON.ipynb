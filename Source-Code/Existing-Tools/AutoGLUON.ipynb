{
 "cells": [
  {
   "cell_type": "code",
   "execution_count": null,
   "metadata": {},
   "outputs": [],
   "source": [
    "import autogluon as ag\n",
    "from autogluon import TabularPrediction as task\n",
    "import pandas as pd\n",
    "import numpy as np\n",
    "import re\n",
    "import warnings\n",
    "warnings.filterwarnings(\"ignore\")"
   ]
  },
  {
   "cell_type": "code",
   "execution_count": null,
   "metadata": {},
   "outputs": [],
   "source": []
  },
  {
   "cell_type": "code",
   "execution_count": null,
   "metadata": {},
   "outputs": [],
   "source": []
  },
  {
   "cell_type": "code",
   "execution_count": null,
   "metadata": {},
   "outputs": [],
   "source": [
    "testdf = pd.read_csv('../data_test.csv')\n",
    "test_metadata = pd.read_csv('../RawCSV/Metadata/meta_data.csv')\n",
    "\n",
    "print(len(testdf),len(test_metadata))\n",
    "test_merged = pd.merge(testdf,test_metadata,on='Record_id')\n",
    "print(len(test_merged))\n",
    "\n",
    "print(test_merged)\n",
    "y_true = test_merged.y_act.values.tolist()\n",
    "print(y_true)\n",
    "print(len(y_true))"
   ]
  },
  {
   "cell_type": "code",
   "execution_count": null,
   "metadata": {},
   "outputs": [],
   "source": [
    "# To save feature types in a dataframe, Add this code snippet in fit function of the \"default_learner.py\"\n",
    "\n",
    "# df = pd.DataFrame(columns=['column', 'feature_type'])\n",
    "# print('features:')\n",
    "# print(self.feature_generator.features)\n",
    "# print('features_to_keep_raw:')\n",
    "# print(self.feature_generator.features_to_keep_raw)\n",
    "# curlst = self.feature_generator.features_to_keep_raw\n",
    "# for col in curlst: df.loc[len(df)] = [col,0]\n",
    "\n",
    "# print('features_to_remove_post:')\n",
    "# print(self.feature_generator.features_to_remove_post)\n",
    "# curlst = self.feature_generator.features_to_remove_post\n",
    "# for col in curlst: df.loc[len(df)] = [col,7]\n",
    "\n",
    "# print('features_to_remove:')\n",
    "# print(self.feature_generator.features_to_remove)\n",
    "# curlst = self.feature_generator.features_to_remove\n",
    "# for col in curlst: df.loc[len(df)] = [col,7]\n",
    "\n",
    "# print('features_categorical_final:')\n",
    "# print(self.feature_generator.features_categorical_final)\n",
    "# curlst = self.feature_generator.features_categorical_final\n",
    "# for col in curlst: df.loc[len(df)] = [col,1]\n",
    "\n",
    "# print('features_nlp:')\n",
    "# print(self.feature_generator.features_nlp)\n",
    "# curlst = self.feature_generator.features_nlp\n",
    "# for col in curlst: df.loc[len(df)] = [col,3]\n",
    "\n",
    "# print('features_datetime:')\n",
    "# print(self.feature_generator.features_datetime)\n",
    "# curlst = self.feature_generator.features_datetime\n",
    "# for col in curlst: df.loc[len(df)] = [col,2]\n",
    "\n",
    "# df.to_csv('AutoGluon_predictions.csv',index=False, mode='a', header=False)"
   ]
  },
  {
   "cell_type": "code",
   "execution_count": null,
   "metadata": {
    "scrolled": true
   },
   "outputs": [],
   "source": [
    "df = pd.DataFrame(columns=['column', 'feature_type'])\n",
    "df.to_csv('AutoGluon_predictions.csv',index=False)\n",
    "\n",
    "for index, row in test_merged.iterrows():\n",
    "#     print(index)        \n",
    "    if index%100==0: \n",
    "#         print(y_tfdv)\n",
    "        print(index)\n",
    "    col = row['Attribute_name']\n",
    "    csv_name = '../RawCSV/' + row['name']\n",
    "    \n",
    "    print(csv_name)\n",
    "    print(col)\n",
    "    \n",
    "    train = pd.read_csv(csv_name,encoding='latin1')\n",
    "    try: train = train[[col]]\n",
    "    except:\n",
    "        df.loc[len(df)] = [col,'categorical']\n",
    "        df.to_csv('AutoGluon_predictions.csv',index=False, mode='a', header=False)\n",
    "        \n",
    "    train['label_target'] = 1\n",
    "    train_data = task.Dataset(df=train)\n",
    "    label_column = 'label_target'\n",
    "    \n",
    "    try: features = task.fit(train_data=train_data, label=label_column)\n",
    "    except: AlwaysTrue = 1\n",
    "    "
   ]
  },
  {
   "cell_type": "code",
   "execution_count": null,
   "metadata": {
    "scrolled": true
   },
   "outputs": [],
   "source": [
    "agl_predictions = pd.read_csv('AutoGluon_predictions.csv')\n",
    "\n",
    "y_gluon = agl_predictions['feature_type'].values.tolist()\n",
    "print(y_gluon)"
   ]
  },
  {
   "cell_type": "code",
   "execution_count": null,
   "metadata": {
    "scrolled": true
   },
   "outputs": [],
   "source": [
    "from sklearn.metrics import accuracy_score\n",
    "from sklearn.metrics import confusion_matrix\n",
    "print(accuracy_score(y_true, y_gluon))\n",
    "print(confusion_matrix(y_true, y_gluon))"
   ]
  },
  {
   "cell_type": "code",
   "execution_count": null,
   "metadata": {
    "scrolled": true
   },
   "outputs": [],
   "source": [
    "df = pd.DataFrame(columns=['column', 'feature_type'])\n",
    "df.to_csv('AutoGluon_predictions.csv',index=False)\n",
    "\n",
    "train = pd.read_csv('../RawCSV/90truth.csv')\n",
    "train = task.Dataset(df=train)\n",
    "# print(train_data)\n",
    "train['label_target'] = 1\n",
    "label_column = 'label_target'\n",
    "try: predictor = task.fit(train_data=train, label=label_column, verbosity=4)\n",
    "except: AlwaysTrue = 1"
   ]
  },
  {
   "cell_type": "code",
   "execution_count": null,
   "metadata": {},
   "outputs": [],
   "source": []
  }
 ],
 "metadata": {
  "kernelspec": {
   "display_name": "Python 3",
   "language": "python",
   "name": "python3"
  },
  "language_info": {
   "codemirror_mode": {
    "name": "ipython",
    "version": 3
   },
   "file_extension": ".py",
   "mimetype": "text/x-python",
   "name": "python",
   "nbconvert_exporter": "python",
   "pygments_lexer": "ipython3",
   "version": "3.7.6"
  },
  "toc": {
   "base_numbering": 1,
   "nav_menu": {},
   "number_sections": false,
   "sideBar": false,
   "skip_h1_title": false,
   "title_cell": "Table of Contents",
   "title_sidebar": "Contents",
   "toc_cell": false,
   "toc_position": {},
   "toc_section_display": false,
   "toc_window_display": false
  }
 },
 "nbformat": 4,
 "nbformat_minor": 4
}
